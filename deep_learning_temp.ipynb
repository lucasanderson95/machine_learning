{
  "cells": [
    {
      "cell_type": "markdown",
      "metadata": {
        "colab_type": "text",
        "id": "2QUxw2rz3IPx"
      },
      "source": [
        "## I"
      ]
    },
    {
      "cell_type": "markdown",
      "metadata": {
        "colab_type": "text",
        "id": "nX0NwuaM5P2F"
      },
      "source": [
        "### Carregando os dados"
      ]
    },
    {
      "cell_type": "code",
      "execution_count": null,
      "metadata": {
        "colab": {},
        "colab_type": "code",
        "id": "wUrtVmuQNHcU"
      },
      "outputs": [],
      "source": [
        "import pandas as pd\n",
        "import seaborn as sns\n",
        "\n",
        "passageiros = pd.read_csv('Passageiros.csv')\n",
        "\n",
        "sns.lineplot(x='tempo',y='passageiros', data=passageiros,label='dado_completo') "
      ]
    },
    {
      "cell_type": "markdown",
      "metadata": {
        "colab_type": "text",
        "id": "2jDTVwgN5lah"
      },
      "source": [
        "### Escalando os dados"
      ]
    },
    {
      "cell_type": "code",
      "execution_count": null,
      "metadata": {
        "colab": {},
        "colab_type": "code",
        "id": "mE58ekKUBYQD"
      },
      "outputs": [],
      "source": [
        "import matplotlib.pyplot as plt\n",
        "from sklearn.preprocessing import StandardScaler\n",
        "\n",
        "sc = StandardScaler()\n",
        "sc.fit(passageiros)\n",
        "dado_escalado = sc.transform(passageiros)\n",
        "\n",
        "x=dado_escalado[:,0] #Features - Características - Tempo\n",
        "y=dado_escalado[:,1] #Alvo - Número de passageiros\n",
        "\n",
        "sns.lineplot(x=x,y=y,label='dado_escalado') \n",
        "plt.ylabel('Passageiros')\n",
        "plt.xlabel('Data')"
      ]
    },
    {
      "cell_type": "markdown",
      "metadata": {
        "colab_type": "text",
        "id": "k7ouYZsv5W2F"
      },
      "source": [
        "### Dividindo em treino e teste"
      ]
    },
    {
      "cell_type": "code",
      "execution_count": null,
      "metadata": {
        "colab": {},
        "colab_type": "code",
        "id": "dQ1FcF5EQxmG"
      },
      "outputs": [],
      "source": [
        "tamanho_treino = int(len(passageiros)*0.9) #Pegando 90% dos dados para treino\n",
        "tamanho_teste = len(passageiros)-tamanho_treino #O resto vamos reservar para teste"
      ]
    },
    {
      "cell_type": "code",
      "execution_count": null,
      "metadata": {
        "colab": {},
        "colab_type": "code",
        "id": "p2YWXWLp-DlG"
      },
      "outputs": [],
      "source": [
        "xtreino = x[0:tamanho_treino]\n",
        "ytreino = y[0:tamanho_treino]"
      ]
    },
    {
      "cell_type": "code",
      "execution_count": null,
      "metadata": {
        "colab": {},
        "colab_type": "code",
        "id": "ns6CQGRQETTm"
      },
      "outputs": [],
      "source": [
        "xteste = x[tamanho_treino:len(passageiros)]\n",
        "yteste = y[tamanho_treino:len(passageiros)]"
      ]
    },
    {
      "cell_type": "code",
      "execution_count": null,
      "metadata": {
        "colab": {
          "base_uri": "https://localhost:8080/",
          "height": 404
        },
        "colab_type": "code",
        "id": "zSiCvx0XRLyY",
        "outputId": "36971f38-1f9a-483f-a061-8732c4a3d798"
      },
      "outputs": [],
      "source": [
        "sns.lineplot(x=xtreino,y=ytreino,label='treino') \n",
        "sns.lineplot(x=xteste,y=yteste,label='teste') "
      ]
    },
    {
      "cell_type": "markdown",
      "metadata": {},
      "source": [
        "## II"
      ]
    },
    {
      "cell_type": "markdown",
      "metadata": {
        "colab_type": "text",
        "id": "LseIFdma5rKN"
      },
      "source": [
        "### Regressão Linear"
      ]
    },
    {
      "cell_type": "code",
      "execution_count": null,
      "metadata": {
        "colab": {},
        "colab_type": "code",
        "id": "d2rKq_X5F_u9"
      },
      "outputs": [],
      "source": [
        "from tensorflow.keras.models import Sequential\n",
        "from tensorflow.keras.layers import Dense\n",
        "\n",
        "regressor = Sequential()"
      ]
    },
    {
      "cell_type": "code",
      "execution_count": null,
      "metadata": {
        "colab": {},
        "colab_type": "code",
        "id": "ru641Txbw-YR"
      },
      "outputs": [],
      "source": [
        "regressor = Sequential()\n",
        "regressor.add(Dense(1, input_dim=1, kernel_initializer='Ones', activation='linear',use_bias=False))\n",
        "regressor.compile(loss='mean_squared_error',optimizer='adam')\n",
        "regressor.summary()"
      ]
    },
    {
      "cell_type": "code",
      "execution_count": null,
      "metadata": {
        "colab": {
          "base_uri": "https://localhost:8080/",
          "height": 51
        },
        "colab_type": "code",
        "id": "ku2t83Kfz8yC",
        "outputId": "6e2f97dc-fe0d-4e9d-9eeb-b852718c1e0a"
      },
      "outputs": [],
      "source": [
        "regressor.fit(xtreino,ytreino)"
      ]
    },
    {
      "cell_type": "code",
      "execution_count": null,
      "metadata": {
        "colab": {},
        "colab_type": "code",
        "id": "4W6W4BCqxyGk"
      },
      "outputs": [],
      "source": [
        "y_predict= regressor.predict(xtreino) #Prevendo os dados de treino (o ajuste)"
      ]
    },
    {
      "cell_type": "code",
      "execution_count": null,
      "metadata": {
        "colab": {
          "base_uri": "https://localhost:8080/",
          "height": 401
        },
        "colab_type": "code",
        "id": "qZa_pwq8yOSp",
        "outputId": "2fbeeffa-159e-4761-f2b2-a9eb7f6e052a"
      },
      "outputs": [],
      "source": [
        "sns.lineplot(x=xtreino,y=ytreino,label='treino')\n",
        "sns.lineplot(x=xtreino,y=y_predict[:,0],label='ajuste_treino')"
      ]
    },
    {
      "cell_type": "code",
      "execution_count": null,
      "metadata": {
        "colab": {},
        "colab_type": "code",
        "id": "Vvl_QbRFNkrz"
      },
      "outputs": [],
      "source": [
        "d = {'tempo': xtreino, 'passageiros': y_predict[:,0]}\n",
        "resultados = pd.DataFrame(data=d)\n",
        "resultados.head()"
      ]
    },
    {
      "cell_type": "code",
      "execution_count": null,
      "metadata": {
        "colab": {},
        "colab_type": "code",
        "id": "BOhyer-uDUm4"
      },
      "outputs": [],
      "source": [
        "resultado_transf = sc.inverse_transform(resultados)\n",
        "resultado_transf = pd.DataFrame(resultado_transf)\n",
        "resultado_transf.columns = ['tempo','passageiros']\n",
        "\n",
        "sns.lineplot(x=\"tempo\",y=\"passageiros\",data=passageiros)\n",
        "sns.lineplot(x=\"tempo\",y=\"passageiros\",data=resultado_transf)"
      ]
    },
    {
      "cell_type": "code",
      "execution_count": null,
      "metadata": {
        "colab": {},
        "colab_type": "code",
        "id": "TI0e2Z6vYa-T"
      },
      "outputs": [],
      "source": [
        "y_predict_teste= regressor.predict(xteste) #Prevendo os dados de teste(o futuro)"
      ]
    },
    {
      "cell_type": "code",
      "execution_count": null,
      "metadata": {
        "colab": {},
        "colab_type": "code",
        "id": "2oUXkBfE_Ikz"
      },
      "outputs": [],
      "source": [
        "d = {'tempo': xteste, 'passageiros': y_predict_teste[:,0]}\n",
        "resultados_teste = pd.DataFrame(data=d)"
      ]
    },
    {
      "cell_type": "code",
      "execution_count": null,
      "metadata": {
        "colab": {},
        "colab_type": "code",
        "id": "GyJw6huHFDHy"
      },
      "outputs": [],
      "source": [
        "resultado_transf_teste = sc.inverse_transform(resultados_teste)"
      ]
    },
    {
      "cell_type": "code",
      "execution_count": null,
      "metadata": {
        "colab": {},
        "colab_type": "code",
        "id": "AJjWMD83KLhd"
      },
      "outputs": [],
      "source": [
        "resultado_transf_teste = pd.DataFrame(resultado_transf_teste)\n",
        "resultado_transf_teste.columns = ['tempo','passageiros']"
      ]
    },
    {
      "cell_type": "code",
      "execution_count": null,
      "metadata": {
        "colab": {
          "base_uri": "https://localhost:8080/",
          "height": 425
        },
        "colab_type": "code",
        "id": "eT2Uj989FTtQ",
        "outputId": "6e9f0b12-4a54-4114-903e-ad6fe3baa636"
      },
      "outputs": [],
      "source": [
        "sns.lineplot(x=\"tempo\",y=\"passageiros\",data=passageiros,label='dado_completo')\n",
        "sns.lineplot(x=\"tempo\",y=\"passageiros\",data=resultado_transf,label='ajuste_treino')\n",
        "sns.lineplot(x=\"tempo\",y=\"passageiros\",data=resultado_transf_teste,label='previsão')"
      ]
    },
    {
      "cell_type": "markdown",
      "metadata": {
        "colab_type": "text",
        "id": "zybqc1BmZKtA"
      },
      "source": [
        "### Regressão não-linear"
      ]
    },
    {
      "cell_type": "code",
      "execution_count": null,
      "metadata": {
        "colab": {},
        "colab_type": "code",
        "id": "RtPQd_PrSKKz"
      },
      "outputs": [],
      "source": [
        "regressor2 = Sequential()"
      ]
    },
    {
      "cell_type": "code",
      "execution_count": null,
      "metadata": {
        "colab": {},
        "colab_type": "code",
        "id": "enmt_zu8drcO"
      },
      "outputs": [],
      "source": [
        "regressor2.add(Dense(8, input_dim=1, kernel_initializer='random_uniform', activation='sigmoid',use_bias=False)) \n",
        "regressor2.add(Dense(8, kernel_initializer='random_uniform', activation='sigmoid',use_bias=False))\n",
        "regressor2.add(Dense(1, kernel_initializer='random_uniform', activation='linear',use_bias=False))"
      ]
    },
    {
      "cell_type": "code",
      "execution_count": null,
      "metadata": {
        "colab": {
          "base_uri": "https://localhost:8080/",
          "height": 255
        },
        "colab_type": "code",
        "id": "ShpxsVmHPCFo",
        "outputId": "c02aa9db-7b96-42e0-9417-57c4fe62d0cd"
      },
      "outputs": [],
      "source": [
        "regressor2.compile(loss='mean_squared_error',optimizer='adam')\n",
        "regressor2.summary()"
      ]
    },
    {
      "cell_type": "code",
      "execution_count": null,
      "metadata": {
        "colab": {
          "base_uri": "https://localhost:8080/",
          "height": 1000
        },
        "colab_type": "code",
        "id": "ksn7mnHrl7KE",
        "outputId": "c109a9f5-dc9e-468c-bc76-3fea8160d792"
      },
      "outputs": [],
      "source": [
        "regressor2.fit(xtreino,ytreino,epochs =500)"
      ]
    },
    {
      "cell_type": "code",
      "execution_count": null,
      "metadata": {
        "colab": {},
        "colab_type": "code",
        "id": "CAUKfJYujjGx"
      },
      "outputs": [],
      "source": [
        "y_predict= regressor2.predict(xtreino) #Prevendo os dados de treino (o ajuste)"
      ]
    },
    {
      "cell_type": "code",
      "execution_count": null,
      "metadata": {
        "colab": {},
        "colab_type": "code",
        "id": "3hHowCayIsjn"
      },
      "outputs": [],
      "source": [
        "y_predict_teste= regressor2.predict(xteste) #Prevendo os dados de teste(o futuro)"
      ]
    },
    {
      "cell_type": "code",
      "execution_count": null,
      "metadata": {
        "colab": {
          "base_uri": "https://localhost:8080/",
          "height": 404
        },
        "colab_type": "code",
        "id": "2b5XGpV7f8c0",
        "outputId": "0e75d065-5b30-49db-83a8-6c29493d6e0a"
      },
      "outputs": [],
      "source": [
        "sns.lineplot(x=xtreino,y=ytreino,label='treino')\n",
        "sns.lineplot(x=xteste,y=yteste,label='teste')\n",
        "sns.lineplot(x=xtreino,y=y_predict[:,0],label='ajuste_treino')\n",
        "sns.lineplot(x=xteste,y=y_predict_teste[:,0],label='previsão')"
      ]
    },
    {
      "cell_type": "markdown",
      "metadata": {
        "colab_type": "text",
        "id": "NhBEyHb9Z0OK"
      },
      "source": [
        "## III"
      ]
    },
    {
      "cell_type": "markdown",
      "metadata": {
        "colab_type": "text",
        "id": "BePFa969Z7-A"
      },
      "source": [
        "### Alterando a forma como passamos os dados\n",
        "\n",
        "Agora x e y vão valores diferentes. X vai conter o número de passageiros em um tempo anterior e y vai conter o número de passageiros em t+1, por exemplo. "
      ]
    },
    {
      "cell_type": "code",
      "execution_count": null,
      "metadata": {
        "colab": {},
        "colab_type": "code",
        "id": "5lB0YhQOllRj"
      },
      "outputs": [],
      "source": [
        "import numpy as np\n",
        "vetor = pd.DataFrame(ytreino)[0]"
      ]
    },
    {
      "cell_type": "code",
      "execution_count": null,
      "metadata": {
        "colab": {},
        "colab_type": "code",
        "id": "iYg7EIvXZ7Dr"
      },
      "outputs": [],
      "source": [
        "def separa_dados(vetor,n_passos):\n",
        "  \"\"\"Entrada: vetor: número de passageiros\n",
        "               n_passos: número de passos no regressor\n",
        "     Saída:\n",
        "              X_novo: Array 2D \n",
        "              y_novo: Array 1D - Nosso alvo\n",
        "  \"\"\"\n",
        "  X_novo, y_novo = [], []\n",
        "  for i in range(n_passos,vetor.shape[0]):\n",
        "    X_novo.append(list(vetor.loc[i-n_passos:i-1]))\n",
        "    y_novo.append(vetor.loc[i])\n",
        "  X_novo, y_novo = np.array(X_novo), np.array(y_novo) \n",
        "  return X_novo, y_novo"
      ]
    },
    {
      "cell_type": "code",
      "execution_count": null,
      "metadata": {
        "colab": {},
        "colab_type": "code",
        "id": "ZBDThuBZjzPR"
      },
      "outputs": [],
      "source": [
        "xtreino_novo, ytreino_novo = separa_dados(vetor,1)"
      ]
    },
    {
      "cell_type": "code",
      "execution_count": null,
      "metadata": {
        "colab": {
          "base_uri": "https://localhost:8080/",
          "height": 102
        },
        "colab_type": "code",
        "id": "Xv-Sdrq67wzU",
        "outputId": "10f122a1-3143-4206-9add-c9dc63f910a3"
      },
      "outputs": [],
      "source": [
        "xtreino_novo[0:5] #X"
      ]
    },
    {
      "cell_type": "code",
      "execution_count": null,
      "metadata": {
        "colab": {
          "base_uri": "https://localhost:8080/",
          "height": 34
        },
        "colab_type": "code",
        "id": "VhQODPn18e3q",
        "outputId": "e31b556c-aba0-412d-9b30-2b37963e3908"
      },
      "outputs": [],
      "source": [
        "ytreino_novo[0:5] #y"
      ]
    },
    {
      "cell_type": "markdown",
      "metadata": {
        "colab_type": "text",
        "id": "oGvXVDsLAV8h"
      },
      "source": [
        "### Agora vamos separar o teste"
      ]
    },
    {
      "cell_type": "code",
      "execution_count": null,
      "metadata": {
        "colab": {},
        "colab_type": "code",
        "id": "ImOSkCxQ83-s"
      },
      "outputs": [],
      "source": [
        "vetor2 = pd.DataFrame(yteste)[0]\n",
        "xteste_novo, yteste_novo = separa_dados(vetor2,1)"
      ]
    },
    {
      "cell_type": "markdown",
      "metadata": {
        "colab_type": "text",
        "id": "6VO3qXXZKqbz"
      },
      "source": [
        "### Voltando para as redes neurais"
      ]
    },
    {
      "cell_type": "code",
      "execution_count": null,
      "metadata": {
        "colab": {},
        "colab_type": "code",
        "id": "JAac1H8tKBjN"
      },
      "outputs": [],
      "source": [
        "regressor3 = Sequential()\n",
        "\n",
        "regressor3.add(Dense(8, input_dim=1, kernel_initializer='ones', activation='linear',use_bias=False))\n",
        "regressor3.add(Dense(64, kernel_initializer='random_uniform', activation='sigmoid',use_bias=False))\n",
        "regressor3.add(Dense(1, kernel_initializer='random_uniform', activation='linear',use_bias=False))\n",
        "regressor3.compile(loss='mean_squared_error',optimizer='adam')\n",
        "regressor3.summary()"
      ]
    },
    {
      "cell_type": "code",
      "execution_count": null,
      "metadata": {
        "colab": {
          "base_uri": "https://localhost:8080/",
          "height": 1000
        },
        "colab_type": "code",
        "id": "UNbo6HL2OAdY",
        "outputId": "447989b3-8372-4ccd-d9d2-a4baeecda083"
      },
      "outputs": [],
      "source": [
        "regressor3.fit(xtreino_novo,ytreino_novo,epochs =100)"
      ]
    },
    {
      "cell_type": "code",
      "execution_count": null,
      "metadata": {
        "colab": {},
        "colab_type": "code",
        "id": "iHPf2EeaQYgy"
      },
      "outputs": [],
      "source": [
        "y_predict_novo = regressor3.predict(xtreino_novo)"
      ]
    },
    {
      "cell_type": "code",
      "execution_count": null,
      "metadata": {
        "colab": {
          "base_uri": "https://localhost:8080/",
          "height": 425
        },
        "colab_type": "code",
        "id": "8ULGBpxtUvh7",
        "outputId": "7edda670-379a-4c03-c39c-eee60190aacc"
      },
      "outputs": [],
      "source": [
        "sns.lineplot(x='tempo',y=ytreino_novo,data=passageiros[1:129],label='treino')\n",
        "sns.lineplot(x='tempo',y=pd.DataFrame(y_predict_novo)[0],data=passageiros[1:129],label='ajuste_treino')"
      ]
    },
    {
      "cell_type": "code",
      "execution_count": null,
      "metadata": {
        "colab": {},
        "colab_type": "code",
        "id": "j_cSUf31U3Ag"
      },
      "outputs": [],
      "source": [
        "y_predict_teste_novo = regressor3.predict(xteste_novo)"
      ]
    },
    {
      "cell_type": "code",
      "execution_count": null,
      "metadata": {
        "colab": {},
        "colab_type": "code",
        "id": "3qnFMQz5RHuE"
      },
      "outputs": [],
      "source": [
        "resultado = pd.DataFrame(y_predict_teste_novo)[0]\n",
        "\n",
        "sns.lineplot(x='tempo',y=ytreino_novo,data=passageiros[1:129],label='treino')\n",
        "sns.lineplot(x='tempo',y=pd.DataFrame(y_predict_novo)[0],data=passageiros[1:129],label='ajuste_treino')\n",
        "\n",
        "sns.lineplot(x='tempo',y=yteste_novo,data=passageiros[130:144],label='teste')\n",
        "sns.lineplot(x='tempo',y=resultado.values,data=passageiros[130:144],label='previsão')"
      ]
    },
    {
      "cell_type": "markdown",
      "metadata": {
        "colab_type": "text",
        "id": "PAJ2mH-jnym6"
      },
      "source": [
        "### Janelas"
      ]
    },
    {
      "cell_type": "code",
      "execution_count": null,
      "metadata": {
        "colab": {},
        "colab_type": "code",
        "id": "4faZAXgwoHZ9"
      },
      "outputs": [],
      "source": [
        "xtreino_novo, ytreino_novo = separa_dados(vetor,4)"
      ]
    },
    {
      "cell_type": "code",
      "execution_count": null,
      "metadata": {
        "colab": {
          "base_uri": "https://localhost:8080/",
          "height": 102
        },
        "colab_type": "code",
        "id": "x7GOldfmoHaO",
        "outputId": "27327f4e-bf04-495c-c5d6-b1d70b452a25"
      },
      "outputs": [],
      "source": [
        "xtreino_novo[0:5] #X"
      ]
    },
    {
      "cell_type": "code",
      "execution_count": null,
      "metadata": {
        "colab": {
          "base_uri": "https://localhost:8080/",
          "height": 34
        },
        "colab_type": "code",
        "id": "5GAqSrqsoHaT",
        "outputId": "d255b2a4-852d-4adf-bf0d-71da2ea3fa5d"
      },
      "outputs": [],
      "source": [
        "ytreino_novo[0:5] #y"
      ]
    },
    {
      "cell_type": "code",
      "execution_count": null,
      "metadata": {
        "colab": {},
        "colab_type": "code",
        "id": "2-Ct1ZlPn-qn"
      },
      "outputs": [],
      "source": [
        "xteste_novo, yteste_novo = separa_dados(vetor2,4)"
      ]
    },
    {
      "cell_type": "code",
      "execution_count": null,
      "metadata": {
        "colab": {},
        "colab_type": "code",
        "id": "p1xhKZhPt0Uf"
      },
      "outputs": [],
      "source": [
        "regressor4 = Sequential()\n",
        "\n",
        "regressor4.add(Dense(8, input_dim=4, kernel_initializer='random_uniform', activation='linear',use_bias=False)) #relu\n",
        "regressor4.add(Dense(64, kernel_initializer='random_uniform', activation='sigmoid',use_bias=False)) #relu\n",
        "regressor4.add(Dense(1, kernel_initializer='random_uniform', activation='linear',use_bias=False))\n",
        "regressor4.compile(loss='mean_squared_error',optimizer='adam')\n",
        "regressor4.summary()"
      ]
    },
    {
      "cell_type": "code",
      "execution_count": null,
      "metadata": {
        "colab": {
          "base_uri": "https://localhost:8080/",
          "height": 1000
        },
        "colab_type": "code",
        "id": "JpDXr9jMt0U3",
        "outputId": "4054ce32-fed6-450c-b1ef-419a3edb9869"
      },
      "outputs": [],
      "source": [
        "regressor4.fit(xtreino_novo,ytreino_novo,epochs =300)"
      ]
    },
    {
      "cell_type": "code",
      "execution_count": null,
      "metadata": {
        "colab": {},
        "colab_type": "code",
        "id": "DrpwZVUo4hj7"
      },
      "outputs": [],
      "source": [
        "y_predict_teste_novo = regressor4.predict(xteste_novo)"
      ]
    },
    {
      "cell_type": "code",
      "execution_count": null,
      "metadata": {
        "colab": {},
        "colab_type": "code",
        "id": "FCf5PTAV4hkE"
      },
      "outputs": [],
      "source": [
        "resultado = pd.DataFrame(y_predict_teste_novo)[0]\n",
        "\n",
        "sns.lineplot(x='tempo',y=ytreino_novo,data=passageiros[4:129],label='treino')\n",
        "sns.lineplot(x='tempo',y=pd.DataFrame(y_predict_novo)[0],data=passageiros[4:129],label='ajuste_treino')\n",
        "\n",
        "sns.lineplot(x='tempo',y=yteste_novo,data=passageiros[133:144],label='teste')\n",
        "sns.lineplot(x='tempo',y=resultado.values,data=passageiros[133:144],label='previsão')"
      ]
    },
    {
      "cell_type": "markdown",
      "metadata": {
        "colab_type": "text",
        "id": "rF6PvzGKU2Ej"
      },
      "source": [
        "## IV"
      ]
    },
    {
      "cell_type": "markdown",
      "metadata": {
        "colab_type": "text",
        "id": "rxHs3wtaP6Ji"
      },
      "source": [
        "### LSTMs"
      ]
    },
    {
      "cell_type": "code",
      "execution_count": null,
      "metadata": {
        "colab": {},
        "colab_type": "code",
        "id": "Gq1kiIo_fNRp"
      },
      "outputs": [],
      "source": [
        "#Nova base de dados\n",
        "\n",
        "bike = pd.read_csv('bicicletas.csv')\n",
        "bike.head()"
      ]
    },
    {
      "cell_type": "code",
      "execution_count": null,
      "metadata": {
        "colab": {},
        "colab_type": "code",
        "id": "G4pd--F_Y5_w"
      },
      "outputs": [],
      "source": [
        "bike['datas'] = pd.to_datetime(bike['datas'])\n",
        "sns.lineplot(x='datas',y='contagem', data=bike)\n",
        "plt.xticks(rotation=70)"
      ]
    },
    {
      "cell_type": "markdown",
      "metadata": {
        "colab_type": "text",
        "id": "BLM_4ur_h45P"
      },
      "source": [
        "### Escalando os dados"
      ]
    },
    {
      "cell_type": "code",
      "execution_count": null,
      "metadata": {
        "colab": {},
        "colab_type": "code",
        "id": "2OTTkW-LhVpn"
      },
      "outputs": [],
      "source": [
        "sc2 = StandardScaler()\n",
        "sc2.fit(bike['contagem'].values.reshape(-1,1))\n",
        "y = sc2.transform(bike['contagem'].values.reshape(-1,1))"
      ]
    },
    {
      "cell_type": "markdown",
      "metadata": {
        "colab_type": "text",
        "id": "_36H7GQnh1Yr"
      },
      "source": [
        "### Dividindo em treino e teste"
      ]
    },
    {
      "cell_type": "code",
      "execution_count": null,
      "metadata": {
        "colab": {},
        "colab_type": "code",
        "id": "LVPVFj1abVaE"
      },
      "outputs": [],
      "source": [
        "tamanho_treino = int(len(bike)*0.9) #Pegando 90% dos dados para treino\n",
        "tamanho_teste = len(bike)-tamanho_treino #O resto vamos reservar para teste"
      ]
    },
    {
      "cell_type": "code",
      "execution_count": null,
      "metadata": {
        "colab": {},
        "colab_type": "code",
        "id": "PY-30S2RbVaW"
      },
      "outputs": [],
      "source": [
        "ytreino = y[0:tamanho_treino]\n",
        "yteste = y[tamanho_treino:len(bike)]"
      ]
    },
    {
      "cell_type": "code",
      "execution_count": null,
      "metadata": {
        "colab": {
          "base_uri": "https://localhost:8080/",
          "height": 516
        },
        "colab_type": "code",
        "id": "ddYXrIAOdNsw",
        "outputId": "212c765b-150e-40bd-a903-56bcd40e2d73"
      },
      "outputs": [],
      "source": [
        "sns.lineplot(x='datas',y=ytreino[:,0],data=bike[0:tamanho_treino],label='treino') \n",
        "sns.lineplot(x='datas',y=yteste[:,0], data=bike[tamanho_treino:len(bike)],label='teste')\n",
        "plt.xticks(rotation=70) "
      ]
    },
    {
      "cell_type": "code",
      "execution_count": null,
      "metadata": {
        "colab": {},
        "colab_type": "code",
        "id": "7l-lNwGy8zxf"
      },
      "outputs": [],
      "source": [
        "vetor = pd.DataFrame(ytreino)[0]\n",
        "xtreino_novo, ytreino_novo = separa_dados(vetor,10)"
      ]
    },
    {
      "cell_type": "code",
      "execution_count": null,
      "metadata": {
        "colab": {
          "base_uri": "https://localhost:8080/",
          "height": 34
        },
        "colab_type": "code",
        "id": "QHX7a-Eqrf0r",
        "outputId": "56c64b20-41a9-48f5-b3d6-674dbccdebf6"
      },
      "outputs": [],
      "source": [
        "xtreino_novo[0:5]"
      ]
    },
    {
      "cell_type": "code",
      "execution_count": null,
      "metadata": {},
      "outputs": [],
      "source": [
        "ytreino_novo[0:5]"
      ]
    },
    {
      "cell_type": "code",
      "execution_count": null,
      "metadata": {
        "colab": {},
        "colab_type": "code",
        "id": "VPfMo6x6K8rC"
      },
      "outputs": [],
      "source": [
        "vetor2 = pd.DataFrame(yteste)[0]"
      ]
    },
    {
      "cell_type": "code",
      "execution_count": null,
      "metadata": {
        "colab": {},
        "colab_type": "code",
        "id": "cXxuRBmPKe9f"
      },
      "outputs": [],
      "source": [
        "xteste_novo, yteste_novo = separa_dados(vetor2,10)"
      ]
    },
    {
      "cell_type": "markdown",
      "metadata": {
        "colab_type": "text",
        "id": "1mSPJ9aq380E"
      },
      "source": [
        "### O que a LSTM espera\n",
        "\n",
        "A entrada de redes recorrentes deve possuir a seguinte forma para a entrada (número de amostras, número de passos no tempo, e número de atributos por passo no tempo)."
      ]
    },
    {
      "cell_type": "code",
      "execution_count": null,
      "metadata": {
        "colab": {},
        "colab_type": "code",
        "id": "Tmgm1XUE4BM5"
      },
      "outputs": [],
      "source": [
        "xtreino_novo = xtreino_novo.reshape((xtreino_novo.shape[0],xtreino_novo.shape[1],1))"
      ]
    },
    {
      "cell_type": "code",
      "execution_count": null,
      "metadata": {
        "colab": {
          "base_uri": "https://localhost:8080/",
          "height": 34
        },
        "colab_type": "code",
        "id": "UE0SWGiHBLJT",
        "outputId": "fe2d37f8-095c-4835-a71e-5adea97a9e82"
      },
      "outputs": [],
      "source": [
        "xtreino_novo.shape"
      ]
    },
    {
      "cell_type": "code",
      "execution_count": null,
      "metadata": {
        "colab": {},
        "colab_type": "code",
        "id": "6Eb_qaNcBU8k"
      },
      "outputs": [],
      "source": [
        "xteste_novo = xteste_novo.reshape((xteste_novo.shape[0],xteste_novo.shape[1],1))"
      ]
    },
    {
      "cell_type": "markdown",
      "metadata": {
        "colab_type": "text",
        "id": "KRmM3Dn33ykb"
      },
      "source": [
        "### Usando a LSTM"
      ]
    },
    {
      "cell_type": "code",
      "execution_count": null,
      "metadata": {
        "colab": {},
        "colab_type": "code",
        "id": "smKQQ1eu3vyJ"
      },
      "outputs": [],
      "source": [
        "from tensorflow.keras.layers import LSTM\n",
        "\n",
        "recorrente = Sequential()\n",
        "recorrente.add(LSTM(128, input_shape=(xtreino_novo.shape[1],xtreino_novo.shape[2])))\n",
        "recorrente.add(Dense(units=1))"
      ]
    },
    {
      "cell_type": "code",
      "execution_count": null,
      "metadata": {
        "colab": {
          "base_uri": "https://localhost:8080/",
          "height": 221
        },
        "colab_type": "code",
        "id": "M1fnn4MOFXN1",
        "outputId": "bf8855d3-ff2b-42dd-d1e4-3707e3dcd3a6"
      },
      "outputs": [],
      "source": [
        "recorrente.compile(loss='mean_squared_error',optimizer='RMSProp')\n",
        "recorrente.summary()"
      ]
    },
    {
      "cell_type": "code",
      "execution_count": null,
      "metadata": {
        "colab": {
          "base_uri": "https://localhost:8080/",
          "height": 1000
        },
        "colab_type": "code",
        "id": "BalOnGoMHEp1",
        "outputId": "3cc1e55c-a56d-4bbf-e781-d9e6af5d58e9"
      },
      "outputs": [],
      "source": [
        "resultado = recorrente.fit(xtreino_novo,ytreino_novo,validation_data=(xteste_novo,yteste_novo),epochs=100)"
      ]
    },
    {
      "cell_type": "code",
      "execution_count": null,
      "metadata": {
        "colab": {},
        "colab_type": "code",
        "id": "hUcyuKCSZ2Mw"
      },
      "outputs": [],
      "source": [
        "y_ajustado = recorrente.predict(xtreino_novo)"
      ]
    },
    {
      "cell_type": "code",
      "execution_count": null,
      "metadata": {
        "colab": {
          "base_uri": "https://localhost:8080/",
          "height": 515
        },
        "colab_type": "code",
        "id": "4kL1G4HPaGjc",
        "outputId": "db60c1f7-0928-4818-a4c3-a05526e4c24c"
      },
      "outputs": [],
      "source": [
        "sns.lineplot(x='datas',y=ytreino[:,0],data=bike[0:tamanho_treino],label='treino')\n",
        "sns.lineplot(x='datas',y=y_ajustado[:,0],data=bike[0:15662],label='ajuste_treino')\n",
        "plt.xticks(rotation=70) "
      ]
    },
    {
      "cell_type": "code",
      "execution_count": null,
      "metadata": {
        "colab": {},
        "colab_type": "code",
        "id": "lnQZ_AnjbGv_"
      },
      "outputs": [],
      "source": [
        "y_predito = recorrente.predict(xteste_novo)"
      ]
    },
    {
      "cell_type": "code",
      "execution_count": null,
      "metadata": {
        "colab": {
          "base_uri": "https://localhost:8080/",
          "height": 550
        },
        "colab_type": "code",
        "id": "8zEVoaF2bOdb",
        "outputId": "b2ec752e-3d7f-48a0-94cb-51839a1abd5a"
      },
      "outputs": [],
      "source": [
        "sns.lineplot(x='datas',y=yteste[:,0], data=bike[tamanho_treino:len(bike)],label='teste')\n",
        "sns.lineplot(x='datas',y=y_predito[:,0], data=bike[tamanho_treino+10:len(bike)],marker='.',label='previsão')\n",
        "plt.xticks(rotation=70) "
      ]
    },
    {
      "cell_type": "markdown",
      "metadata": {
        "colab_type": "text",
        "id": "W0VyIRpxtfYV"
      },
      "source": [
        "## V"
      ]
    },
    {
      "cell_type": "code",
      "execution_count": null,
      "metadata": {
        "colab": {},
        "colab_type": "code",
        "id": "lk8VkwXA-2kB"
      },
      "outputs": [],
      "source": [
        "from tensorflow.keras.layers import GRU\n",
        "\n",
        "recorrente_g = Sequential()\n",
        "recorrente_g.add(GRU(128, input_shape=(xtreino_novo.shape[1],xtreino_novo.shape[2])))\n",
        "recorrente_g.add(Dense(units=1))"
      ]
    },
    {
      "cell_type": "code",
      "execution_count": null,
      "metadata": {
        "colab": {
          "base_uri": "https://localhost:8080/",
          "height": 221
        },
        "colab_type": "code",
        "id": "xKkg5Gi5CZwU",
        "outputId": "902693cf-0dfd-4114-87aa-f666032878b0"
      },
      "outputs": [],
      "source": [
        "recorrente_g.compile(loss='mean_squared_error',optimizer='RMSProp')\n",
        "recorrente_g.summary()"
      ]
    },
    {
      "cell_type": "code",
      "execution_count": null,
      "metadata": {
        "colab": {
          "base_uri": "https://localhost:8080/",
          "height": 1000
        },
        "colab_type": "code",
        "id": "F0fTOT8KCZwY",
        "outputId": "85310072-5b93-464a-951d-84dbf35705a3"
      },
      "outputs": [],
      "source": [
        "resultado2 = recorrente_g.fit(xtreino_novo,ytreino_novo, validation_data=(xteste_novo,yteste_novo),epochs=100)"
      ]
    },
    {
      "cell_type": "code",
      "execution_count": null,
      "metadata": {
        "colab": {},
        "colab_type": "code",
        "id": "Hj4MPS_ICmdp"
      },
      "outputs": [],
      "source": [
        "y_predito2 = recorrente_g.predict(xteste_novo)"
      ]
    },
    {
      "cell_type": "code",
      "execution_count": null,
      "metadata": {
        "colab": {
          "base_uri": "https://localhost:8080/",
          "height": 550
        },
        "colab_type": "code",
        "id": "NfuykA8AD5er",
        "outputId": "61b722e8-247f-46c1-9933-ff9d3ddc8cc6"
      },
      "outputs": [],
      "source": [
        "sns.lineplot(x='datas',y=yteste[:,0], data=bike[tamanho_treino:len(bike)])\n",
        "sns.lineplot(x='datas',y=y_predito2[:,0], data=bike[tamanho_treino+10:len(bike)],marker='.')\n",
        "plt.legend(['conhecido','estimado'])\n",
        "plt.xticks(rotation=70) "
      ]
    },
    {
      "cell_type": "code",
      "execution_count": null,
      "metadata": {
        "colab": {
          "base_uri": "https://localhost:8080/",
          "height": 34
        },
        "colab_type": "code",
        "id": "uGKWW5qqJJxi",
        "outputId": "c3f81d51-21e6-4c88-e136-8c97572f4489"
      },
      "outputs": [],
      "source": [
        "print(resultado2.history.keys())"
      ]
    },
    {
      "cell_type": "code",
      "execution_count": null,
      "metadata": {
        "colab": {
          "base_uri": "https://localhost:8080/",
          "height": 401
        },
        "colab_type": "code",
        "id": "AyKk6cGsT0s7",
        "outputId": "0735502a-7b42-4851-d26e-c48cf55e93c2"
      },
      "outputs": [],
      "source": [
        "plt.plot(resultado.history['loss'])\n",
        "plt.plot(resultado.history['val_loss'])\n",
        "plt.legend(['treino','teste'])"
      ]
    },
    {
      "cell_type": "code",
      "execution_count": null,
      "metadata": {
        "colab": {
          "base_uri": "https://localhost:8080/",
          "height": 401
        },
        "colab_type": "code",
        "id": "M42XqxI6JTtX",
        "outputId": "25f9cdb6-cc5c-4bd0-ad04-c207ff929ae5"
      },
      "outputs": [],
      "source": [
        "plt.plot(resultado2.history['loss'])\n",
        "plt.plot(resultado2.history['val_loss'])\n",
        "plt.legend(['treino','teste'])\n"
      ]
    }
  ],
  "metadata": {
    "colab": {
      "name": "Temporaiskeras5.ipynb",
      "provenance": []
    },
    "kernelspec": {
      "display_name": "Python 3.10.5 64-bit",
      "language": "python",
      "name": "python3"
    },
    "language_info": {
      "codemirror_mode": {
        "name": "ipython",
        "version": 3
      },
      "file_extension": ".py",
      "mimetype": "text/x-python",
      "name": "python",
      "nbconvert_exporter": "python",
      "pygments_lexer": "ipython3",
      "version": "3.10.5"
    },
    "vscode": {
      "interpreter": {
        "hash": "37083a178839ddb6837eca99e3841ef7be6dad5dc50c6d19829e2187d61ddd5d"
      }
    }
  },
  "nbformat": 4,
  "nbformat_minor": 0
}

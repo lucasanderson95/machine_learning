{
 "cells": [
  {
   "cell_type": "markdown",
   "metadata": {},
   "source": [
    "### Preparação dos dados"
   ]
  },
  {
   "cell_type": "code",
   "execution_count": 19,
   "metadata": {},
   "outputs": [],
   "source": [
    "import pandas as pd\n",
    "pd.set_option('display.max_columns', 39)\n",
    "\n",
    "dados = pd.read_csv('churn.txt') \n",
    "traducao_dic = {'Sim':1, 'Nao':0}\n",
    "dadosmodificados = dados [['Conjuge', 'Dependentes', 'TelefoneFixo', 'PagamentoOnline', 'Churn']].replace(traducao_dic)\n",
    "dummie_dados = pd.get_dummies(dados.drop(['Conjuge', 'Dependentes', 'TelefoneFixo', 'PagamentoOnline', 'Churn'], axis=1))\n",
    "dados_final = pd.concat([dadosmodificados, dummie_dados], axis=1)"
   ]
  },
  {
   "cell_type": "code",
   "execution_count": 20,
   "metadata": {},
   "outputs": [],
   "source": [
    "Xmaria = [[0,0,1,1,0,0,39.90,1,0,0,0,1,0,1,0,0,0,0,1,1,1,0,0,1,0,1,0,0,0,0,1,0,0,1,0,0,0,1]]"
   ]
  },
  {
   "cell_type": "code",
   "execution_count": 21,
   "metadata": {},
   "outputs": [
    {
     "data": {
      "image/png": "[encoded data removed]",
      "text/plain": [
       "<Figure size 432x288 with 1 Axes>"
      ]
     },
     "metadata": {
      "needs_background": "light"
     },
     "output_type": "display_data"
    }
   ],
   "source": [
    "import seaborn as sns\n",
    "%matplotlib inline\n",
    "\n",
    "ax = sns.countplot(x='Churn', data=dados_final)"
   ]
  },
  {
   "cell_type": "code",
   "execution_count": 12,
   "metadata": {},
   "outputs": [
    {
     "data": {
      "text/plain": [
       "0    5174\n",
       "1    1869\n",
       "Name: Churn, dtype: int64"
      ]
     },
     "execution_count": 12,
     "metadata": {},
     "output_type": "execute_result"
    }
   ],
   "source": [
    "dados_final.Churn.value_counts()"
   ]
  },
  {
   "cell_type": "code",
   "execution_count": 23,
   "metadata": {},
   "outputs": [
    {
     "data": {
      "image/png": "[encoded data removed]",
      "text/plain": [
       "<Figure size 432x288 with 1 Axes>"
      ]
     },
     "metadata": {
      "needs_background": "light"
     },
     "output_type": "display_data"
    }
   ],
   "source": [
    "#biblioteca para balancear os dados utilizando over_sampling\n",
    "from imblearn.over_sampling import SMOTE\n",
    "\n",
    "#dividindo os dados em caracteristicas e target\n",
    "X = dados_final.drop('Churn', axis = 1)\n",
    "y = dados_final['Churn']\n",
    "\n",
    "smt = SMOTE(random_state=123)\n",
    "X, y = smt.fit_resample(X, y)\n",
    "\n",
    "#junção dos dados balanceados\n",
    "dados_final = pd.concat([X, y], axis=1)\n",
    "\n",
    "#verificação de balanceamento\n",
    "ax = sns.countplot(x='Churn', data=dados_final)"
   ]
  },
  {
   "cell_type": "code",
   "execution_count": 24,
   "metadata": {},
   "outputs": [
    {
     "data": {
      "text/plain": [
       "0    5174\n",
       "1    5174\n",
       "Name: Churn, dtype: int64"
      ]
     },
     "execution_count": 24,
     "metadata": {},
     "output_type": "execute_result"
    }
   ],
   "source": [
    "dados_final.Churn.value_counts()"
   ]
  },
  {
   "cell_type": "markdown",
   "metadata": {},
   "source": [
    "### Modelo K-nearest neighbors (KNN)"
   ]
  },
  {
   "cell_type": "code",
   "execution_count": 40,
   "metadata": {},
   "outputs": [
    {
     "data": {
      "text/plain": [
       "9.57651505585138"
      ]
     },
     "execution_count": 40,
     "metadata": {},
     "output_type": "execute_result"
    }
   ],
   "source": [
    "import numpy as np\n",
    "from sklearn.preprocessing import StandardScaler\n",
    "\n",
    "#Divisão em inputs e outputs\n",
    "X = dados_final.drop('Churn', axis = 1)\n",
    "y = dados_final['Churn']\n",
    "\n",
    "norm = StandardScaler()\n",
    "X_normalizado = norm.fit_transform(X)\n",
    "\n",
    "Xmaria_normalizado = norm.transform(pd.DataFrame(Xmaria, columns = X.columns))\n",
    "\n",
    "a = Xmaria_normalizado\n",
    "b = X_normalizado[0]\n",
    "\n",
    "np.sqrt(np.sum(np.square(a-b)))"
   ]
  },
  {
   "cell_type": "code",
   "execution_count": 56,
   "metadata": {},
   "outputs": [
    {
     "data": {
      "text/plain": [
       "array([1], dtype=int64)"
      ]
     },
     "execution_count": 56,
     "metadata": {},
     "output_type": "execute_result"
    }
   ],
   "source": [
    "from sklearn.model_selection import train_test_split\n",
    "from sklearn.neighbors import KNeighborsClassifier\n",
    "import warnings \n",
    "warnings.filterwarnings('ignore')\n",
    "\n",
    "X_treino, X_teste, y_treino, y_teste = train_test_split(X_normalizado, y, test_size=0.3, random_state=123)\n",
    "\n",
    "#instanciar o modelo (criamos o modelo) - por padrão são 5 vizinhos  \n",
    "knn = KNeighborsClassifier(metric='euclidean')\n",
    "\n",
    "#treinando o modelo com os dados de treino\n",
    "knn.fit(X_treino, y_treino)\n",
    "\n",
    "#testando o modelo com os dados de teste\n",
    "predito_knn = knn.predict(X_teste)\n",
    "predito_knn\n",
    "\n",
    "predito_maria = knn.predict(Xmaria)\n",
    "predito_maria"
   ]
  },
  {
   "cell_type": "markdown",
   "metadata": {},
   "source": [
    "### Modelo Bernoulli Naive Bayes"
   ]
  },
  {
   "cell_type": "code",
   "execution_count": 57,
   "metadata": {},
   "outputs": [
    {
     "data": {
      "text/plain": [
       "array([0], dtype=int64)"
      ]
     },
     "execution_count": 57,
     "metadata": {},
     "output_type": "execute_result"
    }
   ],
   "source": [
    "from sklearn.naive_bayes import BernoulliNB\n",
    "\n",
    "#criamos o modelo\n",
    "bnb = BernoulliNB(binarize=np.median(X_treino))\n",
    "\n",
    "#treinar o modelo\n",
    "bnb.fit(X_treino, y_treino)\n",
    "\n",
    "#testar o modelo\n",
    "predito_BNb = bnb.predict(X_teste)\n",
    "predito_BNb\n",
    "\n",
    "predito_maria = bnb.predict(Xmaria)\n",
    "predito_maria"
   ]
  },
  {
   "cell_type": "markdown",
   "metadata": {},
   "source": [
    "### Decision Tree"
   ]
  },
  {
   "cell_type": "code",
   "execution_count": 58,
   "metadata": {},
   "outputs": [
    {
     "data": {
      "text/plain": [
       "array([0], dtype=int64)"
      ]
     },
     "execution_count": 58,
     "metadata": {},
     "output_type": "execute_result"
    }
   ],
   "source": [
    "from sklearn.tree import DecisionTreeClassifier\n",
    "\n",
    "#instanciando o modelo\n",
    "dtc = DecisionTreeClassifier(criterion='entropy', random_state=42)\n",
    "\n",
    "#treinar o modelo\n",
    "dtc.fit(X_treino, y_treino)\n",
    "\n",
    "\n",
    "predito_ArvoreDecisao = dtc.predict(X_teste)\n",
    "predito_ArvoreDecisao\n",
    "\n",
    "predito_maria = dtc.predict(Xmaria)\n",
    "predito_maria"
   ]
  },
  {
   "cell_type": "markdown",
   "metadata": {},
   "source": [
    "### Validação dos modelos"
   ]
  },
  {
   "cell_type": "code",
   "execution_count": 47,
   "metadata": {},
   "outputs": [
    {
     "name": "stdout",
     "output_type": "stream",
     "text": [
      "[[1240  329]\n",
      " [ 247 1289]]\n",
      "[[1048  521]\n",
      " [ 240 1296]]\n",
      "[[1240  329]\n",
      " [ 273 1263]]\n"
     ]
    }
   ],
   "source": [
    "from sklearn.metrics import confusion_matrix\n",
    "\n",
    "# Verdadeiro Positivo    Falso Negativo\n",
    "# Falso Positivo         Verdadeiro Nagativo\n",
    "\n",
    "print(confusion_matrix(y_teste, predito_knn))\n",
    "print(confusion_matrix(y_teste, predito_BNb))\n",
    "print(confusion_matrix(y_teste, predito_ArvoreDecisao))"
   ]
  },
  {
   "cell_type": "markdown",
   "metadata": {},
   "source": [
    "A acurácia é utilizada quando queremos saber a performance geral do modelo, isto é, dentre todas as classificações realizadas, quantas foram classificadas corretamente pelo modelo."
   ]
  },
  {
   "cell_type": "code",
   "execution_count": 49,
   "metadata": {},
   "outputs": [
    {
     "name": "stdout",
     "output_type": "stream",
     "text": [
      "knn_accuracy: 0.8144927536231884\n",
      "bnb_accuracy: 0.7549114331723027\n",
      "tree_accuracy: 0.8061191626409018\n"
     ]
    }
   ],
   "source": [
    "from sklearn.metrics import accuracy_score\n",
    "\n",
    "knn_accuracy = accuracy_score(y_teste, predito_knn)\n",
    "bnb_accuracy = accuracy_score(y_teste, predito_BNb)\n",
    "tree_accuracy = accuracy_score(y_teste, predito_ArvoreDecisao)\n",
    "\n",
    "print(\"knn_accuracy:\", knn_accuracy)\n",
    "print(\"bnb_accuracy:\", bnb_accuracy)\n",
    "print(\"tree_accuracy:\", tree_accuracy)\n"
   ]
  },
  {
   "cell_type": "markdown",
   "metadata": {},
   "source": [
    "A precisão é utilizada quando queremos saber dentre todas as classificações de classe Positivo realizadas pelo modelo, quantas estão corretas."
   ]
  },
  {
   "cell_type": "code",
   "execution_count": 50,
   "metadata": {},
   "outputs": [
    {
     "name": "stdout",
     "output_type": "stream",
     "text": [
      "knn_accuracy: 0.7966625463535228\n",
      "bnb_accuracy: 0.71326362135388\n",
      "tree_accuracy: 0.7933417085427136\n"
     ]
    }
   ],
   "source": [
    "from sklearn.metrics import precision_score\n",
    "\n",
    "knn_precision = precision_score(y_teste, predito_knn)\n",
    "bnb_precision = precision_score(y_teste, predito_BNb)\n",
    "tree_precision = precision_score(y_teste, predito_ArvoreDecisao)\n",
    "\n",
    "print(\"knn_precision:\", knn_precision)\n",
    "print(\"bnb_precision:\", bnb_precision)\n",
    "print(\"tree_precision:\", tree_precision)"
   ]
  },
  {
   "cell_type": "code",
   "execution_count": 52,
   "metadata": {},
   "outputs": [
    {
     "name": "stdout",
     "output_type": "stream",
     "text": [
      "knn_recall: 0.8391927083333334\n",
      "bnb_recall: 0.84375\n",
      "tree_recall: 0.822265625\n"
     ]
    }
   ],
   "source": [
    "from sklearn.metrics import recall_score\n",
    "\n",
    "knn_recall = recall_score(y_teste, predito_knn)\n",
    "bnb_recall = recall_score(y_teste, predito_BNb)\n",
    "tree_recall = recall_score(y_teste, predito_ArvoreDecisao)\n",
    "\n",
    "print(\"knn_recall:\", knn_recall)\n",
    "print(\"bnb_recall:\", bnb_recall)\n",
    "print(\"tree_recall:\", tree_recall)"
   ]
  }
 ],
 "metadata": {
  "kernelspec": {
   "display_name": "Python 3.10.5 64-bit",
   "language": "python",
   "name": "python3"
  },
  "language_info": {
   "codemirror_mode": {
    "name": "ipython",
    "version": 3
   },
   "file_extension": ".py",
   "mimetype": "text/x-python",
   "name": "python",
   "nbconvert_exporter": "python",
   "pygments_lexer": "ipython3",
   "version": "3.10.5"
  },
  "orig_nbformat": 4,
  "vscode": {
   "interpreter": {
    "hash": "37083a178839ddb6837eca99e3841ef7be6dad5dc50c6d19829e2187d61ddd5d"
   }
  }
 },
 "nbformat": 4,
 "nbformat_minor": 2
}
